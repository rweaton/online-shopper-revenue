{
 "cells": [
  {
   "cell_type": "markdown",
   "metadata": {},
   "source": [
    "## Preliminaries:  load libraries"
   ]
  },
  {
   "cell_type": "code",
   "execution_count": 39,
   "metadata": {},
   "outputs": [],
   "source": [
    "import numpy as np\n",
    "import pandas as pd\n",
    "import matplotlib.pyplot as plt\n",
    "import sklearn as skl\n",
    "import nonparametric_stats as nps\n",
    "import sys\n",
    "import re"
   ]
  },
  {
   "cell_type": "markdown",
   "metadata": {},
   "source": [
    "## Import data into Pandas dataframe"
   ]
  },
  {
   "cell_type": "code",
   "execution_count": 41,
   "metadata": {},
   "outputs": [],
   "source": [
    "dataFilePath = './data/online_shoppers_intention.csv'\n",
    "shopIntent_df = pd.read_csv(dataFilePath, header=0, delimiter=',')\n",
    "featureNames = shopIntent_df.columns.values"
   ]
  },
  {
   "cell_type": "markdown",
   "metadata": {},
   "source": [
    "## Inspect resultant dataframe"
   ]
  },
  {
   "cell_type": "code",
   "execution_count": 12,
   "metadata": {},
   "outputs": [
    {
     "data": {
      "text/html": [
       "<div>\n",
       "<style scoped>\n",
       "    .dataframe tbody tr th:only-of-type {\n",
       "        vertical-align: middle;\n",
       "    }\n",
       "\n",
       "    .dataframe tbody tr th {\n",
       "        vertical-align: top;\n",
       "    }\n",
       "\n",
       "    .dataframe thead th {\n",
       "        text-align: right;\n",
       "    }\n",
       "</style>\n",
       "<table border=\"1\" class=\"dataframe\">\n",
       "  <thead>\n",
       "    <tr style=\"text-align: right;\">\n",
       "      <th></th>\n",
       "      <th>Administrative</th>\n",
       "      <th>Administrative_Duration</th>\n",
       "      <th>Informational</th>\n",
       "      <th>Informational_Duration</th>\n",
       "      <th>ProductRelated</th>\n",
       "      <th>ProductRelated_Duration</th>\n",
       "      <th>BounceRates</th>\n",
       "      <th>ExitRates</th>\n",
       "      <th>PageValues</th>\n",
       "      <th>SpecialDay</th>\n",
       "      <th>Month</th>\n",
       "      <th>OperatingSystems</th>\n",
       "      <th>Browser</th>\n",
       "      <th>Region</th>\n",
       "      <th>TrafficType</th>\n",
       "      <th>VisitorType</th>\n",
       "      <th>Weekend</th>\n",
       "      <th>Revenue</th>\n",
       "    </tr>\n",
       "  </thead>\n",
       "  <tbody>\n",
       "    <tr>\n",
       "      <th>0</th>\n",
       "      <td>0</td>\n",
       "      <td>0.0</td>\n",
       "      <td>0</td>\n",
       "      <td>0.0</td>\n",
       "      <td>1</td>\n",
       "      <td>0.000000</td>\n",
       "      <td>0.200000</td>\n",
       "      <td>0.200000</td>\n",
       "      <td>0.000000</td>\n",
       "      <td>0.0</td>\n",
       "      <td>Feb</td>\n",
       "      <td>1</td>\n",
       "      <td>1</td>\n",
       "      <td>1</td>\n",
       "      <td>1</td>\n",
       "      <td>Returning_Visitor</td>\n",
       "      <td>False</td>\n",
       "      <td>False</td>\n",
       "    </tr>\n",
       "    <tr>\n",
       "      <th>1</th>\n",
       "      <td>0</td>\n",
       "      <td>0.0</td>\n",
       "      <td>0</td>\n",
       "      <td>0.0</td>\n",
       "      <td>2</td>\n",
       "      <td>64.000000</td>\n",
       "      <td>0.000000</td>\n",
       "      <td>0.100000</td>\n",
       "      <td>0.000000</td>\n",
       "      <td>0.0</td>\n",
       "      <td>Feb</td>\n",
       "      <td>2</td>\n",
       "      <td>2</td>\n",
       "      <td>1</td>\n",
       "      <td>2</td>\n",
       "      <td>Returning_Visitor</td>\n",
       "      <td>False</td>\n",
       "      <td>False</td>\n",
       "    </tr>\n",
       "    <tr>\n",
       "      <th>2</th>\n",
       "      <td>0</td>\n",
       "      <td>0.0</td>\n",
       "      <td>0</td>\n",
       "      <td>0.0</td>\n",
       "      <td>1</td>\n",
       "      <td>0.000000</td>\n",
       "      <td>0.200000</td>\n",
       "      <td>0.200000</td>\n",
       "      <td>0.000000</td>\n",
       "      <td>0.0</td>\n",
       "      <td>Feb</td>\n",
       "      <td>4</td>\n",
       "      <td>1</td>\n",
       "      <td>9</td>\n",
       "      <td>3</td>\n",
       "      <td>Returning_Visitor</td>\n",
       "      <td>False</td>\n",
       "      <td>False</td>\n",
       "    </tr>\n",
       "    <tr>\n",
       "      <th>3</th>\n",
       "      <td>0</td>\n",
       "      <td>0.0</td>\n",
       "      <td>0</td>\n",
       "      <td>0.0</td>\n",
       "      <td>2</td>\n",
       "      <td>2.666667</td>\n",
       "      <td>0.050000</td>\n",
       "      <td>0.140000</td>\n",
       "      <td>0.000000</td>\n",
       "      <td>0.0</td>\n",
       "      <td>Feb</td>\n",
       "      <td>3</td>\n",
       "      <td>2</td>\n",
       "      <td>2</td>\n",
       "      <td>4</td>\n",
       "      <td>Returning_Visitor</td>\n",
       "      <td>False</td>\n",
       "      <td>False</td>\n",
       "    </tr>\n",
       "    <tr>\n",
       "      <th>4</th>\n",
       "      <td>0</td>\n",
       "      <td>0.0</td>\n",
       "      <td>0</td>\n",
       "      <td>0.0</td>\n",
       "      <td>10</td>\n",
       "      <td>627.500000</td>\n",
       "      <td>0.020000</td>\n",
       "      <td>0.050000</td>\n",
       "      <td>0.000000</td>\n",
       "      <td>0.0</td>\n",
       "      <td>Feb</td>\n",
       "      <td>3</td>\n",
       "      <td>3</td>\n",
       "      <td>1</td>\n",
       "      <td>4</td>\n",
       "      <td>Returning_Visitor</td>\n",
       "      <td>True</td>\n",
       "      <td>False</td>\n",
       "    </tr>\n",
       "    <tr>\n",
       "      <th>...</th>\n",
       "      <td>...</td>\n",
       "      <td>...</td>\n",
       "      <td>...</td>\n",
       "      <td>...</td>\n",
       "      <td>...</td>\n",
       "      <td>...</td>\n",
       "      <td>...</td>\n",
       "      <td>...</td>\n",
       "      <td>...</td>\n",
       "      <td>...</td>\n",
       "      <td>...</td>\n",
       "      <td>...</td>\n",
       "      <td>...</td>\n",
       "      <td>...</td>\n",
       "      <td>...</td>\n",
       "      <td>...</td>\n",
       "      <td>...</td>\n",
       "      <td>...</td>\n",
       "    </tr>\n",
       "    <tr>\n",
       "      <th>12325</th>\n",
       "      <td>3</td>\n",
       "      <td>145.0</td>\n",
       "      <td>0</td>\n",
       "      <td>0.0</td>\n",
       "      <td>53</td>\n",
       "      <td>1783.791667</td>\n",
       "      <td>0.007143</td>\n",
       "      <td>0.029031</td>\n",
       "      <td>12.241717</td>\n",
       "      <td>0.0</td>\n",
       "      <td>Dec</td>\n",
       "      <td>4</td>\n",
       "      <td>6</td>\n",
       "      <td>1</td>\n",
       "      <td>1</td>\n",
       "      <td>Returning_Visitor</td>\n",
       "      <td>True</td>\n",
       "      <td>False</td>\n",
       "    </tr>\n",
       "    <tr>\n",
       "      <th>12326</th>\n",
       "      <td>0</td>\n",
       "      <td>0.0</td>\n",
       "      <td>0</td>\n",
       "      <td>0.0</td>\n",
       "      <td>5</td>\n",
       "      <td>465.750000</td>\n",
       "      <td>0.000000</td>\n",
       "      <td>0.021333</td>\n",
       "      <td>0.000000</td>\n",
       "      <td>0.0</td>\n",
       "      <td>Nov</td>\n",
       "      <td>3</td>\n",
       "      <td>2</td>\n",
       "      <td>1</td>\n",
       "      <td>8</td>\n",
       "      <td>Returning_Visitor</td>\n",
       "      <td>True</td>\n",
       "      <td>False</td>\n",
       "    </tr>\n",
       "    <tr>\n",
       "      <th>12327</th>\n",
       "      <td>0</td>\n",
       "      <td>0.0</td>\n",
       "      <td>0</td>\n",
       "      <td>0.0</td>\n",
       "      <td>6</td>\n",
       "      <td>184.250000</td>\n",
       "      <td>0.083333</td>\n",
       "      <td>0.086667</td>\n",
       "      <td>0.000000</td>\n",
       "      <td>0.0</td>\n",
       "      <td>Nov</td>\n",
       "      <td>3</td>\n",
       "      <td>2</td>\n",
       "      <td>1</td>\n",
       "      <td>13</td>\n",
       "      <td>Returning_Visitor</td>\n",
       "      <td>True</td>\n",
       "      <td>False</td>\n",
       "    </tr>\n",
       "    <tr>\n",
       "      <th>12328</th>\n",
       "      <td>4</td>\n",
       "      <td>75.0</td>\n",
       "      <td>0</td>\n",
       "      <td>0.0</td>\n",
       "      <td>15</td>\n",
       "      <td>346.000000</td>\n",
       "      <td>0.000000</td>\n",
       "      <td>0.021053</td>\n",
       "      <td>0.000000</td>\n",
       "      <td>0.0</td>\n",
       "      <td>Nov</td>\n",
       "      <td>2</td>\n",
       "      <td>2</td>\n",
       "      <td>3</td>\n",
       "      <td>11</td>\n",
       "      <td>Returning_Visitor</td>\n",
       "      <td>False</td>\n",
       "      <td>False</td>\n",
       "    </tr>\n",
       "    <tr>\n",
       "      <th>12329</th>\n",
       "      <td>0</td>\n",
       "      <td>0.0</td>\n",
       "      <td>0</td>\n",
       "      <td>0.0</td>\n",
       "      <td>3</td>\n",
       "      <td>21.250000</td>\n",
       "      <td>0.000000</td>\n",
       "      <td>0.066667</td>\n",
       "      <td>0.000000</td>\n",
       "      <td>0.0</td>\n",
       "      <td>Nov</td>\n",
       "      <td>3</td>\n",
       "      <td>2</td>\n",
       "      <td>1</td>\n",
       "      <td>2</td>\n",
       "      <td>New_Visitor</td>\n",
       "      <td>True</td>\n",
       "      <td>False</td>\n",
       "    </tr>\n",
       "  </tbody>\n",
       "</table>\n",
       "<p>12330 rows × 18 columns</p>\n",
       "</div>"
      ],
      "text/plain": [
       "       Administrative  Administrative_Duration  Informational  \\\n",
       "0                   0                      0.0              0   \n",
       "1                   0                      0.0              0   \n",
       "2                   0                      0.0              0   \n",
       "3                   0                      0.0              0   \n",
       "4                   0                      0.0              0   \n",
       "...               ...                      ...            ...   \n",
       "12325               3                    145.0              0   \n",
       "12326               0                      0.0              0   \n",
       "12327               0                      0.0              0   \n",
       "12328               4                     75.0              0   \n",
       "12329               0                      0.0              0   \n",
       "\n",
       "       Informational_Duration  ProductRelated  ProductRelated_Duration  \\\n",
       "0                         0.0               1                 0.000000   \n",
       "1                         0.0               2                64.000000   \n",
       "2                         0.0               1                 0.000000   \n",
       "3                         0.0               2                 2.666667   \n",
       "4                         0.0              10               627.500000   \n",
       "...                       ...             ...                      ...   \n",
       "12325                     0.0              53              1783.791667   \n",
       "12326                     0.0               5               465.750000   \n",
       "12327                     0.0               6               184.250000   \n",
       "12328                     0.0              15               346.000000   \n",
       "12329                     0.0               3                21.250000   \n",
       "\n",
       "       BounceRates  ExitRates  PageValues  SpecialDay Month  OperatingSystems  \\\n",
       "0         0.200000   0.200000    0.000000         0.0   Feb                 1   \n",
       "1         0.000000   0.100000    0.000000         0.0   Feb                 2   \n",
       "2         0.200000   0.200000    0.000000         0.0   Feb                 4   \n",
       "3         0.050000   0.140000    0.000000         0.0   Feb                 3   \n",
       "4         0.020000   0.050000    0.000000         0.0   Feb                 3   \n",
       "...            ...        ...         ...         ...   ...               ...   \n",
       "12325     0.007143   0.029031   12.241717         0.0   Dec                 4   \n",
       "12326     0.000000   0.021333    0.000000         0.0   Nov                 3   \n",
       "12327     0.083333   0.086667    0.000000         0.0   Nov                 3   \n",
       "12328     0.000000   0.021053    0.000000         0.0   Nov                 2   \n",
       "12329     0.000000   0.066667    0.000000         0.0   Nov                 3   \n",
       "\n",
       "       Browser  Region  TrafficType        VisitorType  Weekend  Revenue  \n",
       "0            1       1            1  Returning_Visitor    False    False  \n",
       "1            2       1            2  Returning_Visitor    False    False  \n",
       "2            1       9            3  Returning_Visitor    False    False  \n",
       "3            2       2            4  Returning_Visitor    False    False  \n",
       "4            3       1            4  Returning_Visitor     True    False  \n",
       "...        ...     ...          ...                ...      ...      ...  \n",
       "12325        6       1            1  Returning_Visitor     True    False  \n",
       "12326        2       1            8  Returning_Visitor     True    False  \n",
       "12327        2       1           13  Returning_Visitor     True    False  \n",
       "12328        2       3           11  Returning_Visitor    False    False  \n",
       "12329        2       1            2        New_Visitor     True    False  \n",
       "\n",
       "[12330 rows x 18 columns]"
      ]
     },
     "execution_count": 12,
     "metadata": {},
     "output_type": "execute_result"
    }
   ],
   "source": [
    "shopIntent_df"
   ]
  },
  {
   "cell_type": "code",
   "execution_count": 14,
   "metadata": {},
   "outputs": [
    {
     "data": {
      "text/plain": [
       "str"
      ]
     },
     "execution_count": 14,
     "metadata": {},
     "output_type": "execute_result"
    }
   ],
   "source": [
    "type(shopIntent_df['Month'].values[0])"
   ]
  },
  {
   "cell_type": "code",
   "execution_count": 17,
   "metadata": {},
   "outputs": [
    {
     "data": {
      "text/plain": [
       "numpy.bool_"
      ]
     },
     "execution_count": 17,
     "metadata": {},
     "output_type": "execute_result"
    }
   ],
   "source": [
    "type(shopIntent_df['Weekend'].values[0])"
   ]
  },
  {
   "cell_type": "code",
   "execution_count": 18,
   "metadata": {},
   "outputs": [
    {
     "data": {
      "text/plain": [
       "array([  0,   1,   2,   3,   4,   5,   6,   7,   8,   9,  10,  11,  12,\n",
       "        13,  14,  15,  16,  17,  18,  19,  20,  21,  22,  23,  24,  25,\n",
       "        26,  27,  28,  29,  30,  31,  32,  33,  34,  35,  36,  37,  38,\n",
       "        39,  40,  41,  42,  43,  44,  45,  46,  47,  48,  49,  50,  51,\n",
       "        52,  53,  54,  55,  56,  57,  58,  59,  60,  61,  62,  63,  64,\n",
       "        65,  66,  67,  68,  69,  70,  71,  72,  73,  74,  75,  76,  77,\n",
       "        78,  79,  80,  81,  82,  83,  84,  85,  86,  87,  88,  89,  90,\n",
       "        91,  92,  93,  94,  95,  96,  97,  98,  99, 100, 101, 102, 103,\n",
       "       104, 105, 106, 107, 108, 109, 110, 111, 112, 113, 114, 115, 116,\n",
       "       117, 118, 119, 120, 121, 122, 123, 124, 125, 126, 127, 128, 129,\n",
       "       130, 131, 132, 133, 134, 135, 136, 137, 138, 139, 140, 141, 142,\n",
       "       143, 144, 145, 146, 147, 148, 149, 150, 151, 152, 153, 154, 155,\n",
       "       156, 157, 158, 159, 160, 161, 162, 163, 164, 165, 166, 167, 168,\n",
       "       169, 170, 171, 172, 173, 174, 175, 176, 177, 178, 179, 180, 181,\n",
       "       182, 183, 184, 186, 187, 188, 189, 190, 191, 192, 193, 194, 195,\n",
       "       197, 198, 199, 200, 202, 204, 205, 206, 207, 210, 211, 213, 216,\n",
       "       217, 218, 219, 220, 221, 222, 223, 224, 225, 226, 227, 229, 230,\n",
       "       231, 232, 233, 234, 235, 237, 238, 240, 241, 243, 245, 246, 247,\n",
       "       248, 250, 251, 254, 255, 256, 258, 260, 261, 262, 264, 266, 271,\n",
       "       272, 274, 275, 276, 279, 280, 281, 282, 283, 286, 287, 290, 291,\n",
       "       292, 293, 304, 305, 309, 310, 311, 312, 313, 315, 318, 324, 326,\n",
       "       328, 330, 336, 337, 338, 339, 340, 343, 346, 349, 351, 357, 358,\n",
       "       359, 362, 374, 377, 378, 385, 391, 397, 401, 409, 414, 423, 429,\n",
       "       439, 440, 449, 470, 486, 501, 517, 518, 534, 584, 686, 705])"
      ]
     },
     "execution_count": 18,
     "metadata": {},
     "output_type": "execute_result"
    }
   ],
   "source": [
    "np.unique(shopIntent_df['ProductRelated'].values)"
   ]
  },
  {
   "cell_type": "code",
   "execution_count": 20,
   "metadata": {},
   "outputs": [
    {
     "data": {
      "text/plain": [
       "array([1, 2, 3, 4, 5, 6, 7, 8])"
      ]
     },
     "execution_count": 20,
     "metadata": {},
     "output_type": "execute_result"
    }
   ],
   "source": [
    "np.unique(shopIntent_df['OperatingSystems'].values)"
   ]
  },
  {
   "cell_type": "code",
   "execution_count": 21,
   "metadata": {},
   "outputs": [
    {
     "data": {
      "text/plain": [
       "array([ 1,  2,  3,  4,  5,  6,  7,  8,  9, 10, 11, 12, 13])"
      ]
     },
     "execution_count": 21,
     "metadata": {},
     "output_type": "execute_result"
    }
   ],
   "source": [
    "np.unique(shopIntent_df['Browser'].values)"
   ]
  },
  {
   "cell_type": "code",
   "execution_count": 31,
   "metadata": {},
   "outputs": [
    {
     "data": {
      "text/plain": [
       "array([ 1,  2,  3,  4,  5,  6,  7,  8,  9, 10, 11, 12, 13, 14, 15, 16, 17,\n",
       "       18, 19, 20])"
      ]
     },
     "execution_count": 31,
     "metadata": {},
     "output_type": "execute_result"
    }
   ],
   "source": [
    "feature_diversity = {c: np.unique(shopIntent_df[c].values) for c in shopIntent_df.columns.values}\n",
    "feature_diversity['TrafficType']"
   ]
  },
  {
   "cell_type": "code",
   "execution_count": 24,
   "metadata": {},
   "outputs": [
    {
     "data": {
      "text/plain": [
       "array(['Administrative', 'Administrative_Duration', 'Informational',\n",
       "       'Informational_Duration', 'ProductRelated',\n",
       "       'ProductRelated_Duration', 'BounceRates', 'ExitRates',\n",
       "       'PageValues', 'SpecialDay', 'Month', 'OperatingSystems', 'Browser',\n",
       "       'Region', 'TrafficType', 'VisitorType', 'Weekend', 'Revenue'],\n",
       "      dtype=object)"
      ]
     },
     "execution_count": 24,
     "metadata": {},
     "output_type": "execute_result"
    }
   ],
   "source": [
    "shopIntent_df.columns.values"
   ]
  },
  {
   "cell_type": "markdown",
   "metadata": {},
   "source": [
    "### Use Bayes' Formula to calulate probability of a \"hit\" given a particular categorical value of a feature "
   ]
  },
  {
   "cell_type": "code",
   "execution_count": 80,
   "metadata": {},
   "outputs": [
    {
     "name": "stdout",
     "output_type": "stream",
     "text": [
      "{1: 0.20965125709651258, 2: 0.535360908353609, 3: 0.20721816707218166, 4: 0.03876723438767234, 5: 0.00048661800486618007, 6: 0.0015409570154095702, 7: 0.0005677210056772101, 8: 0.006407137064071371}\n",
      "{1: 0.20965125709651258, 2: 0.535360908353609, 3: 0.20721816707218169, 4: 0.03876723438767235, 5: 0.00048661800486618007, 6: 0.0015409570154095702, 7: 0.0005677210056772101, 8: 0.00640713706407137}\n"
     ]
    }
   ],
   "source": [
    "p_Hit = np.sum(shopIntent_df['Revenue'].values) / shopIntent_df['Revenue'].values.shape[0]\n",
    "p_Miss = np.sum(~shopIntent_df['Revenue'].values) / shopIntent_df['Revenue'].values.shape[0]\n",
    "p_OS = {f:np.sum(shopIntent_df['OperatingSystems'].values == f) / shopIntent_df['OperatingSystems'].values.shape[0]\n",
    "        for f in feature_diversity['OperatingSystems']}\n",
    "p_OS_given_Hit = {f:np.sum(shopIntent_df['Revenue'].values[\n",
    "    shopIntent_df['OperatingSystems'].values == f])/np.sum(shopIntent_df['Revenue'].values)\n",
    "          for f in feature_diversity['OperatingSystems']}\n",
    "\n",
    "p_OS_given_Miss = {f:np.sum(~shopIntent_df['Revenue'].values[\n",
    "    shopIntent_df['OperatingSystems'].values == f])/np.sum(~shopIntent_df['Revenue'].values)\n",
    "          for f in feature_diversity['OperatingSystems']}\n",
    "\n",
    "p_Hit_given_OS = {os: p_OS_given_Hits[os] * p_Hit / p_OS[os] \n",
    "                  for os in feature_diversity['OperatingSystems']}\n",
    "\n",
    "p_OS_by_Sum = {os: p_OS_given_Hit[os]*p_Hit + p_OS_given_Miss[os]*p_Miss \n",
    "               for os in feature_diversity['OperatingSystems']}\n",
    "\n",
    "# Just verifying the \"shortcut\" for the denominator here...\n",
    "print(p_OS)\n",
    "print(p_OS_by_Sum)\n"
   ]
  },
  {
   "cell_type": "markdown",
   "metadata": {},
   "source": [
    "### Generalize above into modular function so that we can investigate other features this way"
   ]
  },
  {
   "cell_type": "code",
   "execution_count": null,
   "metadata": {},
   "outputs": [],
   "source": [
    "def BayesHitProbByCatFeat(binTargs, featureVec, valuesSet):\n",
    "    \n",
    "    p_Hit = np.sum(binTargs) / binTargs.shape[0]\n",
    "    \n",
    "    p_Val = {v:np.sum(featureVec == v) / featureVec.shape[0] \n",
    "             for v in valuesSet}\n",
    "    \n",
    "    p_Val_given_Hit = {v:np.sum(binTargs[featureVec == v]\n",
    "                               )/np.sum(binTargs) \n",
    "                       for v in valuesSet}\n",
    "    \n",
    "    p_Hit_given_Val = {v: p_Val_given_Hit[v] * p_Hit / p_Val[v] \n",
    "                      for v in valuesSet}\n",
    "    \n",
    "    return p_Hit_given_Val\n",
    "\n",
    "\n",
    "def BayesHitProbByCatFeat2(targsVec, featureVec, targVal, featValuesSet):\n",
    "    \n",
    "    p_Hit = np.sum(targsVec == targVal) / targsVec.shape[0]\n",
    "    \n",
    "    p_featVal = {fv:np.sum(featureVec == fv) / featureVec.shape[0] \n",
    "                 for fv in featValuesSet}\n",
    "    \n",
    "    p_featVal_given_Hit = {fv:np.sum(targsVec[featureVec == fv] == targVal\n",
    "                               ) / np.sum(targsVec == targVal) \n",
    "                           for fv in featValuesSet}\n",
    "    \n",
    "    p_Hit_given_featVal = {fv: p_featVal_given_Hit[fv] * p_Hit / p_featVal[fv] \n",
    "                           for fv in featValuesSet}\n",
    "    \n",
    "    return p_Hit_given_featVal"
   ]
  },
  {
   "cell_type": "markdown",
   "metadata": {},
   "source": []
  },
  {
   "cell_type": "markdown",
   "metadata": {},
   "source": [
    "### Define function to compute number of hit occurances per category of a feature"
   ]
  },
  {
   "cell_type": "code",
   "execution_count": null,
   "metadata": {},
   "outputs": [],
   "source": [
    "def HitCountsByCatFeat(targsVec, featureVec, targVal, featValuesSet):\n",
    "    \n",
    "    hitCounts = {fv: np.sum(targsVec[featureVec == fv] == targVal) \n",
    "                 for fv in featValuesSet}\n",
    "    return hitCounts"
   ]
  },
  {
   "cell_type": "markdown",
   "metadata": {},
   "source": [
    "### Revenue probability by visitor OS type"
   ]
  },
  {
   "cell_type": "code",
   "execution_count": 94,
   "metadata": {
    "scrolled": true
   },
   "outputs": [
    {
     "name": "stdout",
     "output_type": "stream",
     "text": [
      "{1: 0.14661508704061893, 2: 0.17497348886532343, 3: 0.10489236790606654, 4: 0.17782426778242677, 5: 0.16666666666666666, 6: 0.10526315789473684, 7: 0.14285714285714285, 8: 0.21518987341772147}\n",
      "{1: 0.14661508704061893, 2: 0.17497348886532343, 3: 0.10489236790606654, 4: 0.17782426778242677, 5: 0.16666666666666666, 6: 0.10526315789473684, 7: 0.14285714285714285, 8: 0.21518987341772147}\n"
     ]
    }
   ],
   "source": [
    "print(BayesHitProbByCatFeat(shopIntent_df['Revenue'].values, \n",
    "                      shopIntent_df['OperatingSystems'].values,\n",
    "                      feature_diversity['OperatingSystems']))\n",
    "\n",
    "osRevProbs = BayesHitProbByCatFeat2(shopIntent_df['Revenue'].values, \n",
    "                             shopIntent_df['OperatingSystems'].values,\n",
    "                             True,\n",
    "                             feature_diversity['OperatingSystems'])\n",
    "print(osRevProbs)\n"
   ]
  },
  {
   "cell_type": "code",
   "execution_count": 139,
   "metadata": {},
   "outputs": [
    {
     "data": {
      "text/plain": [
       "Text(0.5, 0, 'OS id')"
      ]
     },
     "execution_count": 139,
     "metadata": {},
     "output_type": "execute_result"
    },
    {
     "data": {
      "image/png": "[encoded data removed]",
      "text/plain": [
       "<Figure size 792x504 with 1 Axes>"
      ]
     },
     "metadata": {
      "needs_background": "light"
     },
     "output_type": "display_data"
    }
   ],
   "source": [
    "osHitCounts = HitCountsByCatFeat(shopIntent_df['Revenue'].values, \n",
    "                             shopIntent_df['OperatingSystems'].values,\n",
    "                             True,\n",
    "                             feature_diversity['OperatingSystems'])\n",
    "\n",
    "fig7, ax7 = plt.subplots(nrows=1, ncols=1)\n",
    "fig7.set_size_inches(11,7)\n",
    "xVec = np.array([kv for kv in feature_diversity['OperatingSystems']])\n",
    "yVec = np.array([osHitCounts[kv] for kv in feature_diversity['OperatingSystems']])\n",
    "ax7.scatter(xVec, yVec)\n",
    "ax7.set_ylabel('OS count')\n",
    "ax7.set_xlabel('OS id')"
   ]
  },
  {
   "cell_type": "markdown",
   "metadata": {},
   "source": [
    "### Revenue probability by browser type"
   ]
  },
  {
   "cell_type": "code",
   "execution_count": 140,
   "metadata": {
    "scrolled": false
   },
   "outputs": [
    {
     "data": {
      "text/plain": [
       "{1: 0.14825345247766042,\n",
       " 2: 0.15362391659339278,\n",
       " 3: 0.04761904761904762,\n",
       " 4: 0.17663043478260868,\n",
       " 5: 0.1841541755888651,\n",
       " 6: 0.11494252873563218,\n",
       " 7: 0.12244897959183675,\n",
       " 8: 0.15555555555555553,\n",
       " 9: 0.0,\n",
       " 10: 0.19631901840490798,\n",
       " 11: 0.16666666666666666,\n",
       " 12: 0.3,\n",
       " 13: 0.26229508196721313}"
      ]
     },
     "execution_count": 140,
     "metadata": {},
     "output_type": "execute_result"
    }
   ],
   "source": [
    "browserRevHitProbs = BayesHitProbByCatFeat2(shopIntent_df['Revenue'].values, \n",
    "                       shopIntent_df['Browser'].values,\n",
    "                       True,\n",
    "                       feature_diversity['Browser'])\n",
    "browserRevHitProbs"
   ]
  },
  {
   "cell_type": "markdown",
   "metadata": {},
   "source": [
    "Browser types 9 and 3 appear have small or zero hit probabilities. Types 12 and 13 have comparatively high Revenue probabilities."
   ]
  },
  {
   "cell_type": "code",
   "execution_count": 142,
   "metadata": {},
   "outputs": [
    {
     "data": {
      "text/plain": [
       "Text(0.5, 0, 'Browser id')"
      ]
     },
     "execution_count": 142,
     "metadata": {},
     "output_type": "execute_result"
    },
    {
     "data": {
      "image/png": "[encoded data removed]",
      "text/plain": [
       "<Figure size 792x504 with 1 Axes>"
      ]
     },
     "metadata": {
      "needs_background": "light"
     },
     "output_type": "display_data"
    }
   ],
   "source": [
    "browserHitCounts = HitCountsByCatFeat(shopIntent_df['Revenue'].values, \n",
    "                             shopIntent_df['Browser'].values,\n",
    "                             True,\n",
    "                             feature_diversity['Browser'])\n",
    "\n",
    "fig8, ax8 = plt.subplots(nrows=1, ncols=1)\n",
    "fig8.set_size_inches(11,7)\n",
    "xVec = np.array([kv for kv in feature_diversity['Browser']])\n",
    "yVec = np.array([browserHitCounts[kv] for kv in feature_diversity['Browser']])\n",
    "ax8.scatter(xVec, yVec)\n",
    "ax8.set_ylabel('Browser count')\n",
    "ax8.set_xlabel('Browser id')"
   ]
  },
  {
   "cell_type": "markdown",
   "metadata": {},
   "source": [
    "### Revenue probability by Region"
   ]
  },
  {
   "cell_type": "code",
   "execution_count": 96,
   "metadata": {},
   "outputs": [
    {
     "data": {
      "text/plain": [
       "{1: 0.1612970711297071,\n",
       " 2: 0.16549295774647887,\n",
       " 3: 0.14523512276321263,\n",
       " 4: 0.14805414551607446,\n",
       " 5: 0.16352201257861634,\n",
       " 6: 0.1391304347826087,\n",
       " 7: 0.15637319316688567,\n",
       " 8: 0.12903225806451615,\n",
       " 9: 0.16829745596868884}"
      ]
     },
     "execution_count": 96,
     "metadata": {},
     "output_type": "execute_result"
    }
   ],
   "source": [
    "BayesHitProbByCatFeat2(shopIntent_df['Revenue'].values, \n",
    "                       shopIntent_df['Region'].values,\n",
    "                       True,\n",
    "                       feature_diversity['Region'])"
   ]
  },
  {
   "cell_type": "markdown",
   "metadata": {},
   "source": [
    "Hit probabilities across different regions appear roughly equal. The Region feature by itself does not appear to be strong predictor of Revenue hits. I may not include this feature in the model to reduce complexity and improve generalization."
   ]
  },
  {
   "cell_type": "code",
   "execution_count": 144,
   "metadata": {},
   "outputs": [
    {
     "data": {
      "text/plain": [
       "Text(0.5, 0, 'Browser id')"
      ]
     },
     "execution_count": 144,
     "metadata": {},
     "output_type": "execute_result"
    },
    {
     "data": {
      "image/png": "[encoded data removed]",
      "text/plain": [
       "<Figure size 792x504 with 1 Axes>"
      ]
     },
     "metadata": {
      "needs_background": "light"
     },
     "output_type": "display_data"
    }
   ],
   "source": [
    "regionHitCounts = HitCountsByCatFeat(shopIntent_df['Revenue'].values, \n",
    "                             shopIntent_df['Region'].values,\n",
    "                             True,\n",
    "                             feature_diversity['Region'])\n",
    "\n",
    "fig9, ax9 = plt.subplots(nrows=1, ncols=1)\n",
    "fig9.set_size_inches(11,7)\n",
    "xVec = np.array([kv for kv in feature_diversity['Region']])\n",
    "yVec = np.array([regionHitCounts[kv] for kv in feature_diversity['Region']])\n",
    "ax9.scatter(xVec, yVec)\n",
    "ax9.set_ylabel('Browser count')\n",
    "ax9.set_xlabel('Browser id')"
   ]
  },
  {
   "cell_type": "code",
   "execution_count": null,
   "metadata": {},
   "outputs": [],
   "source": []
  },
  {
   "cell_type": "markdown",
   "metadata": {},
   "source": [
    "### Revenue probability by ProductRelated ID"
   ]
  },
  {
   "cell_type": "code",
   "execution_count": 124,
   "metadata": {},
   "outputs": [
    {
     "data": {
      "text/plain": [
       "{0: 0.15789473684210525,\n",
       " 1: 0.02090032154340836,\n",
       " 2: 0.04301075268817204,\n",
       " 3: 0.05458515283842795,\n",
       " 4: 0.04455445544554455,\n",
       " 5: 0.05235602094240838,\n",
       " 6: 0.06060606060606061,\n",
       " 7: 0.08951406649616368,\n",
       " 8: 0.11351351351351349,\n",
       " 9: 0.10725552050473183,\n",
       " 10: 0.15151515151515152,\n",
       " 11: 0.11688311688311687,\n",
       " 12: 0.12779552715654954,\n",
       " 13: 0.15570934256055366,\n",
       " 14: 0.1713147410358566,\n",
       " 15: 0.14814814814814814,\n",
       " 16: 0.14615384615384613,\n",
       " 17: 0.17699115044247787,\n",
       " 18: 0.145,\n",
       " 19: 0.19266055045871558,\n",
       " 20: 0.17333333333333334,\n",
       " 21: 0.2110552763819095,\n",
       " 22: 0.20657276995305165,\n",
       " 23: 0.18333333333333335,\n",
       " 24: 0.18229166666666666,\n",
       " 25: 0.14285714285714285,\n",
       " 26: 0.18709677419354837,\n",
       " 27: 0.20338983050847456,\n",
       " 28: 0.20138888888888887,\n",
       " 29: 0.2074074074074074,\n",
       " 30: 0.2605633802816902,\n",
       " 31: 0.20312499999999997,\n",
       " 32: 0.29411764705882354,\n",
       " 33: 0.19834710743801656,\n",
       " 34: 0.20388349514563103,\n",
       " 35: 0.1881188118811881,\n",
       " 36: 0.11818181818181817,\n",
       " 37: 0.22033898305084743,\n",
       " 38: 0.19101123595505615,\n",
       " 39: 0.17431192660550457,\n",
       " 40: 0.14084507042253522,\n",
       " 41: 0.18823529411764706,\n",
       " 42: 0.19480519480519481,\n",
       " 43: 0.19178082191780824,\n",
       " 44: 0.2173913043478261,\n",
       " 45: 0.21126760563380284,\n",
       " 46: 0.17647058823529413,\n",
       " 47: 0.17857142857142858,\n",
       " 48: 0.22580645161290325,\n",
       " 49: 0.2,\n",
       " 50: 0.26562499999999994,\n",
       " 51: 0.21153846153846156,\n",
       " 52: 0.16,\n",
       " 53: 0.23333333333333334,\n",
       " 54: 0.2173913043478261,\n",
       " 55: 0.13333333333333333,\n",
       " 56: 0.25,\n",
       " 57: 0.2765957446808511,\n",
       " 58: 0.24390243902439024,\n",
       " 59: 0.22916666666666666,\n",
       " 60: 0.2380952380952381,\n",
       " 61: 0.125,\n",
       " 62: 0.1956521739130435,\n",
       " 63: 0.2564102564102564,\n",
       " 64: 0.2777777777777778,\n",
       " 65: 0.12121212121212122,\n",
       " 66: 0.21052631578947367,\n",
       " 67: 0.2,\n",
       " 68: 0.125,\n",
       " 69: 0.26666666666666666,\n",
       " 70: 0.27586206896551724,\n",
       " 71: 0.18181818181818182,\n",
       " 72: 0.14814814814814814,\n",
       " 73: 0.20833333333333331,\n",
       " 74: 0.16,\n",
       " 75: 0.411764705882353,\n",
       " 76: 0.22222222222222224,\n",
       " 77: 0.25,\n",
       " 78: 0.08333333333333333,\n",
       " 79: 0.1935483870967742,\n",
       " 80: 0.32,\n",
       " 81: 0.32432432432432434,\n",
       " 82: 0.34782608695652173,\n",
       " 83: 0.38095238095238093,\n",
       " 84: 0.19999999999999998,\n",
       " 85: 0.25,\n",
       " 86: 0.14285714285714285,\n",
       " 87: 0.2,\n",
       " 88: 0.13333333333333333,\n",
       " 89: 0.27272727272727276,\n",
       " 90: 0.17647058823529413,\n",
       " 91: 0.05555555555555556,\n",
       " 92: 0.3,\n",
       " 93: 0.25,\n",
       " 94: 0.11111111111111112,\n",
       " 95: 0.3684210526315789,\n",
       " 96: 0.2,\n",
       " 97: 0.06666666666666667,\n",
       " 98: 0.2631578947368421,\n",
       " 99: 0.33333333333333337,\n",
       " 100: 0.3,\n",
       " 101: 0.42857142857142855,\n",
       " 102: 0.09090909090909091,\n",
       " 103: 0.0,\n",
       " 104: 0.25,\n",
       " 105: 0.0,\n",
       " 106: 0.35714285714285715,\n",
       " 107: 0.38461538461538464,\n",
       " 108: 0.3076923076923077,\n",
       " 109: 0.38461538461538464,\n",
       " 110: 0.22222222222222224,\n",
       " 111: 0.23529411764705882,\n",
       " 112: 0.14285714285714285,\n",
       " 113: 0.16666666666666666,\n",
       " 114: 0.3333333333333333,\n",
       " 115: 0.4545454545454546,\n",
       " 116: 0.36363636363636365,\n",
       " 117: 0.25,\n",
       " 118: 0.5,\n",
       " 119: 0.19999999999999998,\n",
       " 120: 0.4444444444444445,\n",
       " 121: 0.0,\n",
       " 122: 0.3333333333333333,\n",
       " 123: 0.25,\n",
       " 124: 0.42857142857142855,\n",
       " 125: 0.3,\n",
       " 126: 0.14285714285714285,\n",
       " 127: 0.2857142857142857,\n",
       " 128: 0.0,\n",
       " 129: 0.3,\n",
       " 130: 0.19999999999999998,\n",
       " 131: 0.3076923076923077,\n",
       " 132: 0.5555555555555556,\n",
       " 133: 0.25,\n",
       " 134: 0.19999999999999998,\n",
       " 135: 0.0,\n",
       " 136: 0.25,\n",
       " 137: 0.4545454545454546,\n",
       " 138: 0.25,\n",
       " 139: 0.19999999999999998,\n",
       " 140: 0.14285714285714285,\n",
       " 141: 0.0,\n",
       " 142: 0.3333333333333333,\n",
       " 143: 0.0,\n",
       " 144: 0.3333333333333333,\n",
       " 145: 0.6666666666666666,\n",
       " 146: 0.3333333333333333,\n",
       " 147: 0.6666666666666666,\n",
       " 148: 0.25,\n",
       " 149: 0.42857142857142855,\n",
       " 150: 0.16666666666666666,\n",
       " 151: 0.0,\n",
       " 152: 0.5,\n",
       " 153: 0.3333333333333333,\n",
       " 154: 0.18181818181818182,\n",
       " 155: 0.7999999999999999,\n",
       " 156: 0.25,\n",
       " 157: 0.39999999999999997,\n",
       " 158: 0.0,\n",
       " 159: 0.2857142857142857,\n",
       " 160: 0.3333333333333333,\n",
       " 161: 0.75,\n",
       " 162: 0.375,\n",
       " 163: 1.0,\n",
       " 164: 0.5,\n",
       " 165: 1.0,\n",
       " 166: 0.5,\n",
       " 167: 0.5,\n",
       " 168: 0.0,\n",
       " 169: 0.0,\n",
       " 170: 0.3333333333333333,\n",
       " 171: 0.7142857142857143,\n",
       " 172: 0.25,\n",
       " 173: 0.5,\n",
       " 174: 0.3333333333333333,\n",
       " 175: 0.6666666666666666,\n",
       " 176: 0.5,\n",
       " 177: 0.0,\n",
       " 178: 0.6666666666666666,\n",
       " 179: 0.0,\n",
       " 180: 0.0,\n",
       " 181: 0.0,\n",
       " 182: 0.3333333333333333,\n",
       " 183: 1.0,\n",
       " 184: 0.0,\n",
       " 186: 0.3333333333333333,\n",
       " 187: 0.0,\n",
       " 188: 0.0,\n",
       " 189: 0.3333333333333333,\n",
       " 190: 0.0,\n",
       " 191: 0.0,\n",
       " 192: 0.0,\n",
       " 193: 0.3333333333333333,\n",
       " 194: 0.5,\n",
       " 195: 0.3333333333333333,\n",
       " 197: 0.5,\n",
       " 198: 0.5,\n",
       " 199: 0.5,\n",
       " 200: 0.5,\n",
       " 202: 0.6666666666666666,\n",
       " 204: 0.0,\n",
       " 205: 0.0,\n",
       " 206: 0.0,\n",
       " 207: 0.0,\n",
       " 210: 0.0,\n",
       " 211: 0.0,\n",
       " 213: 0.5,\n",
       " 216: 0.5,\n",
       " 217: 0.0,\n",
       " 218: 1.0,\n",
       " 219: 0.5,\n",
       " 220: 0.0,\n",
       " 221: 0.6666666666666666,\n",
       " 222: 0.0,\n",
       " 223: 0.0,\n",
       " 224: 1.0,\n",
       " 225: 1.0,\n",
       " 226: 1.0,\n",
       " 227: 0.0,\n",
       " 229: 0.3333333333333333,\n",
       " 230: 0.0,\n",
       " 231: 0.0,\n",
       " 232: 1.0,\n",
       " 233: 1.0,\n",
       " 234: 1.0,\n",
       " 235: 1.0,\n",
       " 237: 0.6666666666666666,\n",
       " 238: 0.5,\n",
       " 240: 1.0,\n",
       " 241: 0.0,\n",
       " 243: 1.0,\n",
       " 245: 0.5,\n",
       " 246: 0.0,\n",
       " 247: 0.0,\n",
       " 248: 1.0,\n",
       " 250: 1.0,\n",
       " 251: 0.0,\n",
       " 254: 0.0,\n",
       " 255: 0.0,\n",
       " 256: 0.0,\n",
       " 258: 0.3333333333333333,\n",
       " 260: 1.0,\n",
       " 261: 1.0,\n",
       " 262: 0.0,\n",
       " 264: 0.5,\n",
       " 266: 0.0,\n",
       " 271: 0.0,\n",
       " 272: 0.0,\n",
       " 274: 0.0,\n",
       " 275: 0.0,\n",
       " 276: 1.0,\n",
       " 279: 0.0,\n",
       " 280: 0.0,\n",
       " 281: 0.0,\n",
       " 282: 0.0,\n",
       " 283: 0.0,\n",
       " 286: 1.0,\n",
       " 287: 0.0,\n",
       " 290: 0.0,\n",
       " 291: 0.0,\n",
       " 292: 0.0,\n",
       " 293: 1.0,\n",
       " 304: 1.0,\n",
       " 305: 0.0,\n",
       " 309: 1.0,\n",
       " 310: 0.5,\n",
       " 311: 0.0,\n",
       " 312: 0.0,\n",
       " 313: 0.0,\n",
       " 315: 0.0,\n",
       " 318: 1.0,\n",
       " 324: 1.0,\n",
       " 326: 1.0,\n",
       " 328: 0.0,\n",
       " 330: 1.0,\n",
       " 336: 1.0,\n",
       " 337: 0.0,\n",
       " 338: 1.0,\n",
       " 339: 0.0,\n",
       " 340: 0.0,\n",
       " 343: 0.0,\n",
       " 346: 1.0,\n",
       " 349: 0.0,\n",
       " 351: 0.0,\n",
       " 357: 1.0,\n",
       " 358: 0.0,\n",
       " 359: 1.0,\n",
       " 362: 0.0,\n",
       " 374: 0.0,\n",
       " 377: 0.0,\n",
       " 378: 0.0,\n",
       " 385: 0.0,\n",
       " 391: 0.0,\n",
       " 397: 1.0,\n",
       " 401: 1.0,\n",
       " 409: 0.0,\n",
       " 414: 0.0,\n",
       " 423: 0.0,\n",
       " 429: 0.0,\n",
       " 439: 0.5,\n",
       " 440: 0.0,\n",
       " 449: 0.0,\n",
       " 470: 1.0,\n",
       " 486: 0.0,\n",
       " 501: 1.0,\n",
       " 517: 1.0,\n",
       " 518: 0.0,\n",
       " 534: 1.0,\n",
       " 584: 0.0,\n",
       " 686: 0.0,\n",
       " 705: 0.0}"
      ]
     },
     "execution_count": 124,
     "metadata": {},
     "output_type": "execute_result"
    }
   ],
   "source": [
    "prodRelRevProbs = BayesHitProbByCatFeat2(shopIntent_df['Revenue'].values, \n",
    "                       shopIntent_df['ProductRelated'].values,\n",
    "                       True,\n",
    "                       feature_diversity['ProductRelated'])\n",
    "prodRelRevProbs"
   ]
  },
  {
   "cell_type": "markdown",
   "metadata": {},
   "source": [
    "It is important to notice that ProductRelated values run continuously in the low end, but are increasingly missing in the high end. Strongly suspect that products with high-valued ProductRelated IDs are less often purchased as hit probabilities are increasingly striated (i.e. taking on values of 1/3, 1/2, 1, and 0) as ProductMethod ID values increase.  Need to look at counts across ProductMethod ID values. It appears that if no vistor dwelled on page of a given product, then that product does not appear in this dataset.  Need to fill these holes in the dataset, *somehow*, before training a model."
   ]
  },
  {
   "cell_type": "code",
   "execution_count": 103,
   "metadata": {
    "scrolled": false
   },
   "outputs": [],
   "source": [
    "prodRelHitCounts = HitCountsByCatFeat(shopIntent_df['Revenue'].values, \n",
    "                                      shopIntent_df['ProductRelated'].values,\n",
    "                                      True,\n",
    "                                      feature_diversity['ProductRelated'])"
   ]
  },
  {
   "cell_type": "code",
   "execution_count": 111,
   "metadata": {},
   "outputs": [
    {
     "data": {
      "text/plain": [
       "array(dict_keys([0, 1, 2, 3, 4, 5, 6, 7, 8, 9, 10, 11, 12, 13, 14, 15, 16, 17, 18, 19, 20, 21, 22, 23, 24, 25, 26, 27, 28, 29, 30, 31, 32, 33, 34, 35, 36, 37, 38, 39, 40, 41, 42, 43, 44, 45, 46, 47, 48, 49, 50, 51, 52, 53, 54, 55, 56, 57, 58, 59, 60, 61, 62, 63, 64, 65, 66, 67, 68, 69, 70, 71, 72, 73, 74, 75, 76, 77, 78, 79, 80, 81, 82, 83, 84, 85, 86, 87, 88, 89, 90, 91, 92, 93, 94, 95, 96, 97, 98, 99, 100, 101, 102, 103, 104, 105, 106, 107, 108, 109, 110, 111, 112, 113, 114, 115, 116, 117, 118, 119, 120, 121, 122, 123, 124, 125, 126, 127, 128, 129, 130, 131, 132, 133, 134, 135, 136, 137, 138, 139, 140, 141, 142, 143, 144, 145, 146, 147, 148, 149, 150, 151, 152, 153, 154, 155, 156, 157, 158, 159, 160, 161, 162, 163, 164, 165, 166, 167, 168, 169, 170, 171, 172, 173, 174, 175, 176, 177, 178, 179, 180, 181, 182, 183, 184, 186, 187, 188, 189, 190, 191, 192, 193, 194, 195, 197, 198, 199, 200, 202, 204, 205, 206, 207, 210, 211, 213, 216, 217, 218, 219, 220, 221, 222, 223, 224, 225, 226, 227, 229, 230, 231, 232, 233, 234, 235, 237, 238, 240, 241, 243, 245, 246, 247, 248, 250, 251, 254, 255, 256, 258, 260, 261, 262, 264, 266, 271, 272, 274, 275, 276, 279, 280, 281, 282, 283, 286, 287, 290, 291, 292, 293, 304, 305, 309, 310, 311, 312, 313, 315, 318, 324, 326, 328, 330, 336, 337, 338, 339, 340, 343, 346, 349, 351, 357, 358, 359, 362, 374, 377, 378, 385, 391, 397, 401, 409, 414, 423, 429, 439, 440, 449, 470, 486, 501, 517, 518, 534, 584, 686, 705]),\n",
       "      dtype=object)"
      ]
     },
     "execution_count": 111,
     "metadata": {},
     "output_type": "execute_result"
    }
   ],
   "source": [
    "np.array(prodRelHitCounts.keys())"
   ]
  },
  {
   "cell_type": "code",
   "execution_count": 134,
   "metadata": {},
   "outputs": [
    {
     "data": {
      "text/plain": [
       "Text(0.5, 0, 'ProductRelated id')"
      ]
     },
     "execution_count": 134,
     "metadata": {},
     "output_type": "execute_result"
    },
    {
     "data": {
      "image/png": "[encoded data removed]",
      "text/plain": [
       "<Figure size 792x504 with 1 Axes>"
      ]
     },
     "metadata": {
      "needs_background": "light"
     },
     "output_type": "display_data"
    }
   ],
   "source": [
    "fig1, ax1 = plt.subplots(nrows=1, ncols=1)\n",
    "fig1.set_size_inches(11,7)\n",
    "xVec = np.array([kv for kv in feature_diversity['ProductRelated']])\n",
    "yVec = np.array([prodRelHitCounts[kv] for kv in feature_diversity['ProductRelated']])\n",
    "ax1.scatter(xVec, yVec)\n",
    "ax1.set_ylabel('ProductRelated count')\n",
    "ax1.set_xlabel('ProductRelated id')"
   ]
  },
  {
   "cell_type": "markdown",
   "metadata": {},
   "source": [
    "ProductRelated id categories are *NOT* uniformly distributed in this dataset. It appears that many were not sampled.  Will need to select a predictive model type that can account for these obstacles.\n",
    "\n",
    "Consider fitting a function to this to interpolate missing values here? Kernel smoothing via convolution is another way to interpolate. A convolutional neural network might be a candidate model that can handle this scenario..."
   ]
  },
  {
   "cell_type": "markdown",
   "metadata": {},
   "source": [
    "### Plot correlation scatter of revenue probability over median duration for each category of ProductRelated"
   ]
  },
  {
   "cell_type": "code",
   "execution_count": 126,
   "metadata": {},
   "outputs": [],
   "source": [
    "def MedianDurationByCatFeat(dursVec, featureVec, featValuesSet):\n",
    "    return {fv: np.median(dursVec[featureVec == fv]) for fv in featValuesSet}"
   ]
  },
  {
   "cell_type": "code",
   "execution_count": 135,
   "metadata": {
    "scrolled": false
   },
   "outputs": [
    {
     "data": {
      "text/plain": [
       "(-500, 10000.0)"
      ]
     },
     "execution_count": 135,
     "metadata": {},
     "output_type": "execute_result"
    },
    {
     "data": {
      "image/png": "[encoded data removed]",
      "text/plain": [
       "<Figure size 792x504 with 1 Axes>"
      ]
     },
     "metadata": {
      "needs_background": "light"
     },
     "output_type": "display_data"
    }
   ],
   "source": [
    "prodRelMedDurs = MedianDurationByCatFeat(shopIntent_df['ProductRelated_Duration'].values, \n",
    "                                       shopIntent_df['ProductRelated'].values,\n",
    "                                       feature_diversity['ProductRelated'])\n",
    "\n",
    "fig2, ax2 = plt.subplots(nrows=1, ncols=1)\n",
    "fig2.set_size_inches(11,7)\n",
    "xVec = np.array([prodRelMedDurs[kv] for kv in feature_diversity['ProductRelated']])\n",
    "yVec = np.array([prodRelRevProbs[kv] for kv in feature_diversity['ProductRelated']])\n",
    "ax2.scatter(xVec, yVec)\n",
    "ax2.set_ylabel('ProductRelated revenue probability')\n",
    "ax2.set_xlabel('ProductRelated median duration')\n",
    "ax2.set_xlim([-500,1e4])"
   ]
  },
  {
   "cell_type": "markdown",
   "metadata": {},
   "source": [
    "Revenue probability of ProductRelated categories correlates positively with the median duration that visitors spend on pages of those categories. The correlation loosens with less commonly viewed products however. Again, notice the striations in revenue probability due to the sparse sampling of uncommon categories."
   ]
  },
  {
   "cell_type": "markdown",
   "metadata": {},
   "source": [
    "### Revenue probability by Administrative category"
   ]
  },
  {
   "cell_type": "code",
   "execution_count": 121,
   "metadata": {
    "scrolled": true
   },
   "outputs": [
    {
     "data": {
      "text/plain": [
       "{0: 0.08911234396671289,\n",
       " 1: 0.21491875923190545,\n",
       " 2: 0.18402154398563733,\n",
       " 3: 0.19016393442622948,\n",
       " 4: 0.19999999999999998,\n",
       " 5: 0.20521739130434782,\n",
       " 6: 0.2569444444444444,\n",
       " 7: 0.19526627218934908,\n",
       " 8: 0.2543554006968641,\n",
       " 9: 0.27111111111111114,\n",
       " 10: 0.20915032679738563,\n",
       " 11: 0.2952380952380952,\n",
       " 12: 0.24418604651162787,\n",
       " 13: 0.33928571428571425,\n",
       " 14: 0.27272727272727276,\n",
       " 15: 0.21052631578947367,\n",
       " 16: 0.3333333333333333,\n",
       " 17: 0.25,\n",
       " 18: 0.16666666666666666,\n",
       " 19: 0.16666666666666666,\n",
       " 20: 0.5,\n",
       " 21: 0.0,\n",
       " 22: 0.5,\n",
       " 23: 0.0,\n",
       " 24: 0.0,\n",
       " 26: 1.0,\n",
       " 27: 0.0}"
      ]
     },
     "execution_count": 121,
     "metadata": {},
     "output_type": "execute_result"
    }
   ],
   "source": [
    "adminRevProbs = BayesHitProbByCatFeat2(shopIntent_df['Revenue'].values, \n",
    "                       shopIntent_df['Administrative'].values, \n",
    "                       True,\n",
    "                       feature_diversity['Administrative'])\n",
    "adminRevProbs"
   ]
  },
  {
   "cell_type": "markdown",
   "metadata": {},
   "source": [
    "Notice that Administrative ID value 25 is missing here.  How many different Administrative ID values are there in the population? Do IDs range from  0 through 27, or do they go beyond 27?  It appears that 25 is missing in this dataset simply because site vistors did not navigate to it.  Could that be the case for possibe IDs greater than 27 as well?  Best course here would be to seek answers from the site developers."
   ]
  },
  {
   "cell_type": "code",
   "execution_count": 136,
   "metadata": {},
   "outputs": [
    {
     "data": {
      "text/plain": [
       "Text(0.5, 0, 'Admin id')"
      ]
     },
     "execution_count": 136,
     "metadata": {},
     "output_type": "execute_result"
    },
    {
     "data": {
      "image/png": "[encoded data removed]",
      "text/plain": [
       "<Figure size 792x504 with 1 Axes>"
      ]
     },
     "metadata": {
      "needs_background": "light"
     },
     "output_type": "display_data"
    }
   ],
   "source": [
    "adminHitCounts = HitCountsByCatFeat(shopIntent_df['Revenue'].values, \n",
    "                                    shopIntent_df['Administrative'].values,\n",
    "                                    True,\n",
    "                                    feature_diversity['Administrative'])\n",
    "fig3, ax3 = plt.subplots(nrows=1, ncols=1)\n",
    "fig3.set_size_inches(11,7)\n",
    "xVec = np.array([kv for kv in feature_diversity['Administrative']])\n",
    "yVec = np.array([adminHitCounts[kv] for kv in feature_diversity['Administrative']])\n",
    "ax3.scatter(xVec, yVec)\n",
    "ax3.set_ylabel('Admin count')\n",
    "ax3.set_xlabel('Admin id')"
   ]
  },
  {
   "cell_type": "markdown",
   "metadata": {},
   "source": [
    "Administrative categories are also *NOT* uniformly distributed in dataset.  It appears that Admin IDs were assigned in order of frequency visited: most frequent getting lowest-valued ID number."
   ]
  },
  {
   "cell_type": "code",
   "execution_count": 137,
   "metadata": {
    "scrolled": false
   },
   "outputs": [
    {
     "data": {
      "text/plain": [
       "Text(0.5, 0, 'Admin median duration')"
      ]
     },
     "execution_count": 137,
     "metadata": {},
     "output_type": "execute_result"
    },
    {
     "data": {
      "image/png": "[encoded data removed]",
      "text/plain": [
       "<Figure size 792x504 with 1 Axes>"
      ]
     },
     "metadata": {
      "needs_background": "light"
     },
     "output_type": "display_data"
    }
   ],
   "source": [
    "adminMedDurs = MedianDurationByCatFeat(shopIntent_df['Administrative_Duration'].values, \n",
    "                                       shopIntent_df['Administrative'].values,\n",
    "                                       feature_diversity['Administrative'])\n",
    "\n",
    "fig4, ax4 = plt.subplots(nrows=1, ncols=1)\n",
    "fig4.set_size_inches(11,7)\n",
    "xVec = np.array([adminMedDurs[kv] for kv in feature_diversity['Administrative']])\n",
    "yVec = np.array([adminRevProbs[kv] for kv in feature_diversity['Administrative']])\n",
    "ax4.scatter(xVec, yVec)\n",
    "ax4.set_ylabel('Admin revenue probability')\n",
    "ax4.set_xlabel('Admin median duration')"
   ]
  },
  {
   "cell_type": "code",
   "execution_count": null,
   "metadata": {},
   "outputs": [],
   "source": [
    "np.scipy.stats.pearson()"
   ]
  },
  {
   "cell_type": "markdown",
   "metadata": {},
   "source": [
    "### Revenue probability by Informational category"
   ]
  },
  {
   "cell_type": "code",
   "execution_count": 132,
   "metadata": {
    "scrolled": true
   },
   "outputs": [
    {
     "data": {
      "text/plain": [
       "{0: 0.13351891947623465,\n",
       " 1: 0.22670509125840538,\n",
       " 2: 0.21153846153846156,\n",
       " 3: 0.24473684210526317,\n",
       " 4: 0.27927927927927926,\n",
       " 5: 0.3131313131313131,\n",
       " 6: 0.2179487179487179,\n",
       " 7: 0.16666666666666669,\n",
       " 8: 0.2857142857142857,\n",
       " 9: 0.4,\n",
       " 10: 0.2857142857142857,\n",
       " 11: 0.0,\n",
       " 12: 0.39999999999999997,\n",
       " 13: 0.0,\n",
       " 14: 0.0,\n",
       " 16: 0.0,\n",
       " 24: 0.0}"
      ]
     },
     "execution_count": 132,
     "metadata": {},
     "output_type": "execute_result"
    }
   ],
   "source": [
    "infoRevProbs = BayesHitProbByCatFeat2(shopIntent_df['Revenue'].values, \n",
    "                       shopIntent_df['Informational'].values, \n",
    "                       True,\n",
    "                       feature_diversity['Informational'])\n",
    "infoRevProbs"
   ]
  },
  {
   "cell_type": "markdown",
   "metadata": {},
   "source": [
    "Same issue here as with ProductRelated and Administrative features; categories appear to be missing.  Let's examine how numerical category labels were assigned for the Informational feature. "
   ]
  },
  {
   "cell_type": "code",
   "execution_count": 133,
   "metadata": {
    "scrolled": false
   },
   "outputs": [
    {
     "data": {
      "text/plain": [
       "Text(0.5, 0, 'Info id')"
      ]
     },
     "execution_count": 133,
     "metadata": {},
     "output_type": "execute_result"
    },
    {
     "data": {
      "image/png": "[encoded data removed]",
      "text/plain": [
       "<Figure size 792x504 with 1 Axes>"
      ]
     },
     "metadata": {
      "needs_background": "light"
     },
     "output_type": "display_data"
    }
   ],
   "source": [
    "infoHitCounts = HitCountsByCatFeat(shopIntent_df['Revenue'].values, \n",
    "                                    shopIntent_df['Informational'].values,\n",
    "                                    True,\n",
    "                                    feature_diversity['Informational'])\n",
    "fig5, ax5 = plt.subplots(nrows=1, ncols=1)\n",
    "fig5.set_size_inches(11,7)\n",
    "xVec = np.array([kv for kv in feature_diversity['Informational']])\n",
    "yVec = np.array([infoHitCounts[kv] for kv in feature_diversity['Informational']])\n",
    "ax5.scatter(xVec, yVec)\n",
    "ax5.set_ylabel('Info count')\n",
    "ax5.set_xlabel('Info id')"
   ]
  },
  {
   "cell_type": "code",
   "execution_count": 138,
   "metadata": {},
   "outputs": [
    {
     "data": {
      "text/plain": [
       "Text(0.5, 0, 'Info median duration')"
      ]
     },
     "execution_count": 138,
     "metadata": {},
     "output_type": "execute_result"
    },
    {
     "data": {
      "image/png": "[encoded data removed]",
      "text/plain": [
       "<Figure size 792x504 with 1 Axes>"
      ]
     },
     "metadata": {
      "needs_background": "light"
     },
     "output_type": "display_data"
    }
   ],
   "source": [
    "infoMedDurs = MedianDurationByCatFeat(shopIntent_df['Informational_Duration'].values, \n",
    "                                       shopIntent_df['Informational'].values,\n",
    "                                       feature_diversity['Informational'])\n",
    "\n",
    "fig6, ax6 = plt.subplots(nrows=1, ncols=1)\n",
    "fig6.set_size_inches(11,7)\n",
    "xVec = np.array([adminMedDurs[kv] for kv in feature_diversity['Informational']])\n",
    "yVec = np.array([adminRevProbs[kv] for kv in feature_diversity['Informational']])\n",
    "ax6.scatter(xVec, yVec)\n",
    "ax6.set_ylabel('Info revenue probability')\n",
    "ax6.set_xlabel('Info median duration')"
   ]
  },
  {
   "cell_type": "markdown",
   "metadata": {},
   "source": [
    "### Investigate revenue probability by month"
   ]
  },
  {
   "cell_type": "code",
   "execution_count": 93,
   "metadata": {
    "scrolled": true
   },
   "outputs": [
    {
     "data": {
      "text/plain": [
       "{'Aug': 0.17551963048498845,\n",
       " 'Dec': 0.1250723798494499,\n",
       " 'Feb': 0.01630434782608696,\n",
       " 'Jul': 0.15277777777777776,\n",
       " 'June': 0.10069444444444443,\n",
       " 'Mar': 0.10068169900367069,\n",
       " 'May': 0.10850178359096313,\n",
       " 'Nov': 0.2535023348899266,\n",
       " 'Oct': 0.20947176684881602,\n",
       " 'Sep': 0.1919642857142857}"
      ]
     },
     "execution_count": 93,
     "metadata": {},
     "output_type": "execute_result"
    }
   ],
   "source": [
    "monthRevProbs = BayesHitProbByCatFeat2(shopIntent_df['Revenue'].values, \n",
    "                       shopIntent_df['Month'].values, \n",
    "                       True,\n",
    "                       feature_diversity['Month'])"
   ]
  },
  {
   "cell_type": "markdown",
   "metadata": {},
   "source": [
    "Months of January and April are missing. Is this because none of the visitors purchased items during these months? Need to fill these holes in the dataset so that the model can process (i.e. make predictions for) these two months for which there is no training data. Insert median Hit values for these? How?\n",
    "\n",
    "Perhaps convert months to numerical values and plot probabilities in ordered time sequence to see if there are seasonal trends"
   ]
  },
  {
   "cell_type": "code",
   "execution_count": null,
   "metadata": {},
   "outputs": [],
   "source": [
    "monthConv = {'Jan': 1, 'Feb': 2, 'Mar': 3, 'Apr': 4, 'May': 5, 'June': 6,\n",
    "             'Jul': 7, 'Aug': 8, 'Sep': 9, 'Oct': 10, 'Nov': 11, 'Dec': 12}\n"
   ]
  }
 ],
 "metadata": {
  "kernelspec": {
   "display_name": "Python 3",
   "language": "python",
   "name": "python3"
  },
  "language_info": {
   "codemirror_mode": {
    "name": "ipython",
    "version": 3
   },
   "file_extension": ".py",
   "mimetype": "text/x-python",
   "name": "python",
   "nbconvert_exporter": "python",
   "pygments_lexer": "ipython3",
   "version": "3.7.3"
  }
 },
 "nbformat": 4,
 "nbformat_minor": 4
}
